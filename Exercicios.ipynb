{
 "cells": [
  {
   "cell_type": "markdown",
   "id": "ed4a8ba8",
   "metadata": {},
   "source": [
    "# Exercícios"
   ]
  },
  {
   "cell_type": "markdown",
   "id": "eabdbcec",
   "metadata": {},
   "source": [
    "### 1- Implemente o classificador `1-Vizinho mais próximo` de forma que execute da seguinte forma:\n",
    "\n",
    "#### - Seja uma função e receba como argumento o conjunto de conhecimento e os dados a serem classificados. \n",
    "#### - - Por exemplo: `umVizinhoProximo(base_conhecimento, registros_para_classificar)`\n",
    "#### - Retorne uma lista de rótulos na mesma ordem que os registros para classificar. Assim, o primeiro item da lista seja o rótulo do primeiro registro\n",
    "#### - Classifique todos os registro de maneira iterativa e independente da quantidade\n",
    "#### - Em caso de empate, defina uma regra de desempate"
   ]
  },
  {
   "cell_type": "code",
   "execution_count": null,
   "id": "fefd9979",
   "metadata": {},
   "outputs": [],
   "source": [
    "! pip install pandas matplotlib"
   ]
  },
  {
   "cell_type": "code",
   "execution_count": 2,
   "id": "12e6c9d7",
   "metadata": {},
   "outputs": [],
   "source": [
    "import pandas as pd\n",
    "\n",
    "base = pd.read_csv('base_conhecimento.csv')\n",
    "registros_para_classificar = pd.read_csv('registros_para_classificar.csv')\n"
   ]
  },
  {
   "cell_type": "code",
   "execution_count": 3,
   "id": "37a9669c",
   "metadata": {},
   "outputs": [],
   "source": [
    "def dist_euclidiana(obj1: list, obj2: list) -> float | None:\n",
    "  if len(obj1) != len(obj2):\n",
    "    return None\n",
    "  total = 0\n",
    "  for x1, x2 in zip(obj1, obj2):\n",
    "    total += (x1 - x2)**2\n",
    "  return (total)**(1/2)\n",
    "\n",
    "def umVizinhoProximo(base_conhecimento: list[list], registros_para_classificar: list[list]) -> list:\n",
    "    classificados = []\n",
    "    for registro in registros_para_classificar:\n",
    "        dists = []\n",
    "        for classificado in base_conhecimento:\n",
    "          dists.append(dist_euclidiana(registro, classificado[:-1]))\n",
    "        rotulo = base_conhecimento[dists.index(min(dists))][-1]\n",
    "        classificados.append(rotulo)\n",
    "    return classificados\n",
    "            "
   ]
  },
  {
   "cell_type": "code",
   "execution_count": 4,
   "id": "324bc625",
   "metadata": {},
   "outputs": [
    {
     "data": {
      "text/plain": [
       "['Iris-virginica',\n",
       " 'Iris-virginica',\n",
       " 'Iris-virginica',\n",
       " 'Iris-virginica',\n",
       " 'Iris-setosa',\n",
       " 'Iris-virginica',\n",
       " 'Iris-setosa',\n",
       " 'Iris-setosa',\n",
       " 'Iris-versicolor',\n",
       " 'Iris-virginica',\n",
       " 'Iris-versicolor',\n",
       " 'Iris-setosa',\n",
       " 'Iris-versicolor',\n",
       " 'Iris-virginica',\n",
       " 'Iris-setosa',\n",
       " 'Iris-versicolor',\n",
       " 'Iris-versicolor',\n",
       " 'Iris-virginica',\n",
       " 'Iris-virginica',\n",
       " 'Iris-setosa',\n",
       " 'Iris-virginica',\n",
       " 'Iris-setosa']"
      ]
     },
     "execution_count": 4,
     "metadata": {},
     "output_type": "execute_result"
    }
   ],
   "source": [
    "rotulos = umVizinhoProximo(base.values.tolist(), registros_para_classificar.values.tolist())\n",
    "rotulos"
   ]
  },
  {
   "cell_type": "markdown",
   "id": "38bb39c5",
   "metadata": {},
   "source": [
    "### 2- Altere a implementação anterior para que possa ser indicado quantos vizinhos (k) deseja-se considerar, de forma que execute da seguinte forma:\n",
    "\n",
    "#### - Seja uma função e receba como argumento o conjunto de conhecimento, os dados a serem classificados e quantos vizinhos deve considerar para tomar a decisão sobre qual rótulo indicar para o registro. Nesse caso, é computado a distância para todos os registros na base de conhecimento, em seguida, use os k vizinhos mais próximos para verificar qual dos rótulos aparece mais vezes. O rótulo que aparecer mais vezes é utilizado para rotular o registro em questão.\n",
    "#### - - Por exemplo: `kVizinhoProximo(base_conhecimento, registros_para_classificar, k)`\n",
    "#### - Retorne uma lista de rótulos na mesma ordem que os registros para classificar. Assim, o primeiro item da lista seja o rótulo do primeiro registro\n",
    "#### - Classifique todos os registro de maneira iterativa e independente da quantidade\n",
    "#### - Em caso de empate, defina uma regra de desempate"
   ]
  },
  {
   "cell_type": "code",
   "execution_count": 23,
   "id": "497c9da0",
   "metadata": {},
   "outputs": [],
   "source": [
    "def kVizinhoProximo(base_conhecimento: list[list], registros_para_classificar: list[list], k: int) -> list:\n",
    "    if k > len(base_conhecimento):\n",
    "       k = len(base_conhecimento)\n",
    "    classificados = []\n",
    "    for registro in registros_para_classificar:\n",
    "        dists = {}\n",
    "        for i, classificado in enumerate(base_conhecimento):\n",
    "          # dists.append(dist_euclidiana(registro, classificado[:-1]))\n",
    "          dists[i] = dist_euclidiana(registro, classificado[:-1])\n",
    "\n",
    "        knn = sorted(dists.items(), key= lambda item: item[1])[:k]\n",
    "        rotulos=  []\n",
    "        for i, _ in knn:\n",
    "          rotulos.append(base_conhecimento[i][-1])\n",
    "\n",
    "        contagem = {}\n",
    "        for r in rotulos:\n",
    "            contagem[r] = contagem.get(r, 0) + 1\n",
    "        \n",
    "        max_votos = max(contagem.values())\n",
    "        candidatos = [rot for rot, cont in contagem.items() if cont == max_votos]\n",
    "        \n",
    "        if len(candidatos) == 1:\n",
    "            rótulo_escolhido = candidatos[0]\n",
    "        else: # desempate escolhendo o rótulo do vizinho mais próximo entre os empatados\n",
    "            rótulo_escolhido = ''\n",
    "            for i, _ in knn:\n",
    "                rotulo = base_conhecimento[i][-1]\n",
    "                if rotulo in candidatos:\n",
    "                    rótulo_escolhido = rotulo\n",
    "                    break\n",
    "        \n",
    "        classificados.append(rótulo_escolhido)\n",
    "                    \n",
    "    return classificados"
   ]
  },
  {
   "cell_type": "code",
   "execution_count": 38,
   "id": "5e6c703b",
   "metadata": {},
   "outputs": [
    {
     "data": {
      "text/plain": [
       "['Iris-virginica',\n",
       " 'Iris-virginica',\n",
       " 'Iris-virginica',\n",
       " 'Iris-virginica',\n",
       " 'Iris-setosa',\n",
       " 'Iris-virginica',\n",
       " 'Iris-setosa',\n",
       " 'Iris-setosa',\n",
       " 'Iris-versicolor',\n",
       " 'Iris-virginica',\n",
       " 'Iris-versicolor',\n",
       " 'Iris-setosa',\n",
       " 'Iris-versicolor',\n",
       " 'Iris-virginica',\n",
       " 'Iris-setosa',\n",
       " 'Iris-versicolor',\n",
       " 'Iris-versicolor',\n",
       " 'Iris-virginica',\n",
       " 'Iris-virginica',\n",
       " 'Iris-setosa',\n",
       " 'Iris-versicolor',\n",
       " 'Iris-setosa']"
      ]
     },
     "execution_count": 38,
     "metadata": {},
     "output_type": "execute_result"
    }
   ],
   "source": [
    "rotulados = kVizinhoProximo(base.values.tolist(), registros_para_classificar.values.tolist(), 15)\n",
    "rotulados"
   ]
  },
  {
   "cell_type": "markdown",
   "id": "f70a29d3",
   "metadata": {},
   "source": [
    "## Resposta ideal\n",
    "\n",
    "#### A resposta correta para cada registro está no arquivo `respostas_em_ordem.csv`"
   ]
  },
  {
   "cell_type": "markdown",
   "id": "cc208d35",
   "metadata": {},
   "source": [
    "### 3- Com quantos k vizinhos conseguiu a maior quantidade de acerto?"
   ]
  },
  {
   "cell_type": "code",
   "execution_count": 59,
   "id": "93705ade",
   "metadata": {},
   "outputs": [
    {
     "name": "stdout",
     "output_type": "stream",
     "text": [
      "15, 17, 18, 19, 23, 25, 26, "
     ]
    }
   ],
   "source": [
    "i = 1\n",
    "k = {}\n",
    "while i <= 100:\n",
    "    k[i] = kVizinhoProximo(base.values.tolist(), registros_para_classificar.values.tolist(), i)\n",
    "    i+=1\n",
    "\n",
    "respostas = pd.read_csv('respostas_em_ordem.csv')\n",
    "respostas = respostas['Species'].tolist()\n",
    "\n",
    "erros = {}\n",
    "for i, rotulados in k.items():\n",
    "    erro = 0\n",
    "    for res, rot in zip(rotulados, respostas):\n",
    "        if res != rot:\n",
    "            erro+=1\n",
    "    erros[i] = erro\n",
    "for i, e in erros.items():\n",
    "    if e == 0:\n",
    "        print(i, end=', ')"
   ]
  },
  {
   "cell_type": "code",
   "execution_count": 60,
   "id": "0fc7c855",
   "metadata": {},
   "outputs": [
    {
     "data": {
      "image/png": "[encoded data removed]",
      "text/plain": [
       "<Figure size 1200x600 with 1 Axes>"
      ]
     },
     "metadata": {},
     "output_type": "display_data"
    }
   ],
   "source": [
    "import matplotlib.pyplot as plt\n",
    "\n",
    "k_vals = list(erros.keys())\n",
    "num_erros = list(erros.values())\n",
    "\n",
    "plt.figure(figsize=(12, 6))\n",
    "plt.plot(k_vals, num_erros, label='Erros')\n",
    "plt.xlabel('Valor de k')\n",
    "plt.ylabel('Número de erros')\n",
    "plt.title('Número de erros para cada valor de k no KNN')\n",
    "plt.grid(True)\n",
    "plt.legend()\n",
    "plt.xticks(range(0, 101, 5))\n",
    "plt.yticks(range(0, 17, 1))\n",
    "# plt.tight_layout()\n",
    "plt.show()"
   ]
  },
  {
   "cell_type": "markdown",
   "id": "99162d2c",
   "metadata": {},
   "source": [
    "# Conclusões\n",
    "\n",
    "- Percebe-se que para grandes parte dos k iniciais, de 0 até 80, possui apennas um erro. O que significa que os valores e resultados obtidos a partir do algoritmo desenvolvido estão bem próximos do resultado esperado. \n",
    "- A partir de 80 os erros sobem bastante.\n",
    "- O algoritmo KNN com o k com os valores de 15, 17, 18, 19, 23, 25 e 26 são os quais obtém-se o resultado com a maior taxa de acerto, zero erros."
   ]
  }
 ],
 "metadata": {
  "kernelspec": {
   "display_name": "Python 3",
   "language": "python",
   "name": "python3"
  },
  "language_info": {
   "codemirror_mode": {
    "name": "ipython",
    "version": 3
   },
   "file_extension": ".py",
   "mimetype": "text/x-python",
   "name": "python",
   "nbconvert_exporter": "python",
   "pygments_lexer": "ipython3",
   "version": "3.12.10"
  }
 },
 "nbformat": 4,
 "nbformat_minor": 5
}
